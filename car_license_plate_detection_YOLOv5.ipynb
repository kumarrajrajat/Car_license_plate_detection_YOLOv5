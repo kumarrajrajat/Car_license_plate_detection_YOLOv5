{
  "nbformat": 4,
  "nbformat_minor": 0,
  "metadata": {
    "colab": {
      "name": "car_license_plate_detection_YOLOv5.ipynb",
      "provenance": [],
      "collapsed_sections": []
    },
    "kernelspec": {
      "name": "python3",
      "display_name": "Python 3"
    },
    "language_info": {
      "name": "python"
    }
  },
  "cells": [
    {
      "cell_type": "code",
      "execution_count": 11,
      "metadata": {
        "colab": {
          "base_uri": "https://localhost:8080/"
        },
        "id": "xebEmG4Afe19",
        "outputId": "ca109e97-1466-4b80-9ed2-83d2ba9ce19c"
      },
      "outputs": [
        {
          "output_type": "stream",
          "name": "stdout",
          "text": [
            "Cloning into 'Car_license_plate_detection_YOLOv5'...\n",
            "remote: Enumerating objects: 6056, done.\u001b[K\n",
            "remote: Counting objects: 100% (6056/6056), done.\u001b[K\n",
            "remote: Compressing objects: 100% (3334/3334), done.\u001b[K\n",
            "remote: Total 6056 (delta 2624), reused 6052 (delta 2622), pack-reused 0\u001b[K\n",
            "Receiving objects: 100% (6056/6056), 8.12 MiB | 28.01 MiB/s, done.\n",
            "Resolving deltas: 100% (2624/2624), done.\n",
            "/content/Car_license_plate_detection_YOLOv5\n",
            "HEAD is now at 886f1c0 DDP after autoanchor reorder (#2421)\n"
          ]
        }
      ],
      "source": [
        "#clone my repository\n",
        "!git clone https://github.com/kumarrajrajat/Car_license_plate_detection_YOLOv5  # clone repo\n",
        "%cd Car_license_plate_detection_YOLOv5\n",
        "!git reset --hard 886f1c03d839575afecb059accf74296fad395b6"
      ]
    },
    {
      "cell_type": "code",
      "source": [
        "from google.colab import drive\n",
        "drive.mount('/content/drive')\n"
      ],
      "metadata": {
        "colab": {
          "base_uri": "https://localhost:8080/"
        },
        "id": "Q1Df_2jCgDZO",
        "outputId": "1c5dd2ee-815a-4335-cc3a-a4607d0a7c36"
      },
      "execution_count": 12,
      "outputs": [
        {
          "output_type": "stream",
          "name": "stdout",
          "text": [
            "Mounted at /content/drive\n"
          ]
        }
      ]
    },
    {
      "cell_type": "code",
      "source": [
        "# install dependencies as necessary\n",
        "!pip install -qr requirements.txt  # install dependencies (ignore errors)\n",
        "import torch\n",
        "\n",
        "from IPython.display import Image, clear_output  # to display images\n",
        "from utils.google_utils import gdrive_download  # to download models/datasets\n",
        "\n",
        "# clear_output()\n",
        "print('Setup complete. Using torch %s %s' % (torch.__version__, torch.cuda.get_device_properties(0) if torch.cuda.is_available() else 'CPU'))"
      ],
      "metadata": {
        "id": "V_rK1kLBhPIR"
      },
      "execution_count": null,
      "outputs": []
    },
    {
      "cell_type": "code",
      "source": [
        "%%time\n",
        "%cd /content/Car_license_plate_detection_YOLOv5/\n",
        "!python train.py --batch 16 --epochs 200 --data '/content/Car_license_plate_detection_YOLOv5/data.yaml' --cfg ./models/custom_yolov5s.yaml --weights '' --name yolov5s_results  --cache"
      ],
      "metadata": {
        "id": "LAxwmlK0iHvz"
      },
      "execution_count": null,
      "outputs": []
    },
    {
      "cell_type": "code",
      "source": [
        "# Start tensorboard\n",
        "# Launch after you have started training\n",
        "# logs save in the folder \"runs\"\n",
        "%load_ext tensorboard\n",
        "%tensorboard --logdir runs\n"
      ],
      "metadata": {
        "id": "M38rybdSiHtA"
      },
      "execution_count": null,
      "outputs": []
    },
    {
      "cell_type": "code",
      "source": [
        "# we can also output some older school graphs if the tensor board isn't working for whatever reason... \n",
        "from utils.plots import plot_results  # plot results.txt as results.png\n",
        "Image(filename='/content/Car_license_plate_detection_YOLOv5/runs/train/yolov5s_results2/results.png', width=1000)  # view results.png"
      ],
      "metadata": {
        "id": "hDwttZRliHp1"
      },
      "execution_count": null,
      "outputs": []
    },
    {
      "cell_type": "code",
      "source": [
        "# first, display our ground truth data\n",
        "print(\"GROUND TRUTH TRAINING DATA:\")\n",
        "Image(filename='/content/Car_license_plate_detection_YOLOv5/runs/train/yolov5s_results2/test_batch0_labels.jpg', width=900)"
      ],
      "metadata": {
        "id": "1XYiCAywiHme"
      },
      "execution_count": null,
      "outputs": []
    },
    {
      "cell_type": "code",
      "source": [
        "# when we ran this, we saw .007 second inference time. That is 140 FPS on a TESLA P100!\n",
        "# use the best weights!\n",
        "%cd /content/yolov5/\n",
        "!python detect.py --weights runs/train/yolov5s_results2/weights/best.pt  --conf 0.4 --source ./test/images"
      ],
      "metadata": {
        "id": "n2gX1261iw6b"
      },
      "execution_count": null,
      "outputs": []
    },
    {
      "cell_type": "code",
      "source": [
        "import glob\n",
        "from IPython.display import Image, display\n",
        "\n",
        "for imageName in glob.glob('/content/Car_license_plate_detection_YOLOv5/runs/detect/exp/*.jpg'): #assuming JPG\n",
        "    display(Image(filename=imageName))\n",
        "    print(\"\\n\")"
      ],
      "metadata": {
        "id": "v-H8KPSkiw3P"
      },
      "execution_count": null,
      "outputs": []
    }
  ]
}